{
 "cells": [
  {
   "cell_type": "code",
   "execution_count": 1,
   "metadata": {},
   "outputs": [],
   "source": [
    "import numpy as np\n",
    "import matplotlib.pyplot as plt"
   ]
  },
  {
   "cell_type": "code",
   "execution_count": 2,
   "metadata": {},
   "outputs": [],
   "source": [
    "values = [1.0, 0, 0, 1.0, 0, 0, 0.75, 1.0, 0.5, 1.0, 0.75, 0, 0.5, 0, 1.0, 1.0, 0.25, 1.0, 0.25, 1.0, 0.5, 0.75, 0.75, 0.5, 0, 0, 0, 1.0, 0, 1.0, 0.25, 0.75, 0, 0.25, 0, 1.0, 0, 0.75, 1.0, 0.25, 1.0, 0, 1.0, 0.25, 1.0, 0.5, 1.0, 1.0, 1.0, 0, 1.0, 0.25, 0.5, 0, 0, 1.0, 0, 0, 1.0, 0.75, 0.25, 1.0, 1.0, 1.0, 0.5, 0, 0.75, 1.0, 0, 0, 0.75, 0.75, 1.0, 1.0, 1.0, 1.0, 1.0, 0.25, 1.0, 0, 1.0, 1.0, 1.0, 0.75, 0, 0, 0, 1.0, 0.25, 0.5, 1.0, 0.25, 1.0, 0.5, 1.0, 1.0, 1.0, 0.75, 0.25, 1.0]"
   ]
  },
  {
   "cell_type": "code",
   "execution_count": 3,
   "metadata": {},
   "outputs": [
    {
     "data": {
      "image/png": "[encoded data removed]",
      "text/plain": [
       "<Figure size 640x480 with 1 Axes>"
      ]
     },
     "metadata": {},
     "output_type": "display_data"
    }
   ],
   "source": [
    "plt.boxplot(values)\n",
    "plt.show()"
   ]
  },
  {
   "cell_type": "code",
   "execution_count": 5,
   "metadata": {},
   "outputs": [
    {
     "name": "stdout",
     "output_type": "stream",
     "text": [
      "[0.75 0.75]\n",
      "[0.5 1. ]\n",
      "[0.25 1.  ]\n",
      "- [0. 1.]\n",
      "[0. 1.]\n",
      "[0. 1.]\n",
      "[0. 1.]\n",
      "[0. 1.]\n"
     ]
    }
   ],
   "source": [
    "print(np.percentile(values, [50, 50]))\n",
    "print(np.percentile(values, [40, 60]))\n",
    "print(np.percentile(values, [30, 70]))\n",
    "print(\"-\", np.percentile(values, [25, 75]))\n",
    "print(np.percentile(values, [20, 80]))\n",
    "print(np.percentile(values, [10, 90]))\n",
    "print(np.percentile(values, [5 , 95]))\n",
    "print(np.percentile(values, [0 ,100]))"
   ]
  }
 ],
 "metadata": {
  "kernelspec": {
   "display_name": "base",
   "language": "python",
   "name": "python3"
  },
  "language_info": {
   "codemirror_mode": {
    "name": "ipython",
    "version": 3
   },
   "file_extension": ".py",
   "mimetype": "text/x-python",
   "name": "python",
   "nbconvert_exporter": "python",
   "pygments_lexer": "ipython3",
   "version": "3.8.8"
  },
  "orig_nbformat": 4
 },
 "nbformat": 4,
 "nbformat_minor": 2
}
