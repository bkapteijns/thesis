{
 "cells": [
  {
   "attachments": {},
   "cell_type": "markdown",
   "metadata": {},
   "source": [
    "Fidelity is defined as the correspondence between the explanation and the model. It can be computed by measuring how much the model's predictions change when features change. So using feature perturbation. Feature ablation is also possible.\n",
    "\n",
    "In this file, we present a function that computes the fidelity for a feature relevance explanation. Sensitivity of the model to a feature is used as a proxy for the importance of that feature for this method."
   ]
  },
  {
   "cell_type": "code",
   "execution_count": 1,
   "metadata": {},
   "outputs": [],
   "source": [
    "model = lambda x : 0\n",
    "explanation = [0] * 64\n",
    "X = [[0]*64]*20"
   ]
  },
  {
   "attachments": {},
   "cell_type": "markdown",
   "metadata": {},
   "source": [
    "either measure the difference between the sentence with and without the word in the bert model output (so that you get the impression of how much this particular word changes the meaning of the sentence)\n",
    "\n",
    "or measure whether it changed the model's output (but this is probably not as reliable)"
   ]
  },
  {
   "cell_type": "code",
   "execution_count": null,
   "metadata": {},
   "outputs": [],
   "source": [
    "for i in range(len(20)):\n",
    "  "
   ]
  }
 ],
 "metadata": {
  "kernelspec": {
   "display_name": "base",
   "language": "python",
   "name": "python3"
  },
  "language_info": {
   "codemirror_mode": {
    "name": "ipython",
    "version": 3
   },
   "file_extension": ".py",
   "mimetype": "text/x-python",
   "name": "python",
   "nbconvert_exporter": "python",
   "pygments_lexer": "ipython3",
   "version": "3.8.8"
  },
  "orig_nbformat": 4
 },
 "nbformat": 4,
 "nbformat_minor": 2
}
