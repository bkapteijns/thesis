{
 "cells": [
  {
   "attachments": {},
   "cell_type": "markdown",
   "metadata": {},
   "source": [
    "Fidelity is defined as the correspondence between the explanation and the model. It can be computed by measuring how much the model's predictions change when features change. So using feature perturbation. Feature ablation is also possible.\n",
    "\n",
    "In this file, we present a function that computes the fidelity for a feature relevance explanation. Sensitivity of the model to a feature is used as a proxy for the importance of that feature for this method."
   ]
  },
  {
   "cell_type": "code",
   "execution_count": 1,
   "metadata": {},
   "outputs": [],
   "source": [
    "model = lambda x : 0\n",
    "explanation = [[0]*64]*20\n",
    "X = [[0]*64]*20"
   ]
  },
  {
   "attachments": {},
   "cell_type": "markdown",
   "metadata": {},
   "source": [
    "either measure the difference between the sentence with and without the word in the bert model output (so that you get the impression of how much this particular word changes the meaning of the sentence)\n",
    "\n",
    "or measure whether it changed the model's output (but this is probably not as reliable)"
   ]
  },
  {
   "cell_type": "code",
   "execution_count": null,
   "metadata": {},
   "outputs": [],
   "source": [
    "def compute_fidelity(X, explanation, model):\n",
    "    fidelity = [0] * len(X)\n",
    "    samples = 10\n",
    "    for i in range(len(X)):\n",
    "        change_ratings = [0]*len(X[i])\n",
    "        for x in range(len(X[i])):\n",
    "            change_rating = 0\n",
    "            for change in range(samples):\n",
    "                new_X = X[i]\n",
    "                new_X[x] = new_X[x] + (2000 * change / samples)\n",
    "                if (model([X[i]]) == model([new_X])):\n",
    "                    change_rating += 1/samples\n",
    "            change_ratings[x] = change_rating\n",
    "        for i in range(len(X[i])):\n",
    "            fidelity[i] += change_ratings[i] * explanation[i]"
   ]
  }
 ],
 "metadata": {
  "kernelspec": {
   "display_name": "base",
   "language": "python",
   "name": "python3"
  },
  "language_info": {
   "codemirror_mode": {
    "name": "ipython",
    "version": 3
   },
   "file_extension": ".py",
   "mimetype": "text/x-python",
   "name": "python",
   "nbconvert_exporter": "python",
   "pygments_lexer": "ipython3",
   "version": "3.8.8"
  },
  "orig_nbformat": 4
 },
 "nbformat": 4,
 "nbformat_minor": 2
}
