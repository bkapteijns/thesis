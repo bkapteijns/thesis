{
 "cells": [
  {
   "cell_type": "code",
   "execution_count": 1,
   "metadata": {},
   "outputs": [],
   "source": [
    "model = lambda x : 0\n",
    "explanation = [[0]*64]*20\n",
    "X = [[0]*64]*20"
   ]
  },
  {
   "cell_type": "code",
   "execution_count": 2,
   "metadata": {},
   "outputs": [],
   "source": [
    "def ablate(x, i):\n",
    "  x[i] = 0\n",
    "  for j in range(i, len(x)):\n",
    "    x[j] = x[j+1]\n",
    "  x[-1] = 0\n",
    "  return x"
   ]
  },
  {
   "cell_type": "code",
   "execution_count": 3,
   "metadata": {},
   "outputs": [],
   "source": [
    "def contrast(X, model, explanation):\n",
    "  contrast = [0]*len(X)\n",
    "  for i in range(len(X)):\n",
    "    old_prediction = model([X[i]])\n",
    "    for j in range(len(64)):\n",
    "      X[i] = ablate(X[i], j)\n",
    "      if (model([X[i]]) != old_prediction):\n",
    "        contrast[i] += explanation[i][j]"
   ]
  }
 ],
 "metadata": {
  "kernelspec": {
   "display_name": "base",
   "language": "python",
   "name": "python3"
  },
  "language_info": {
   "codemirror_mode": {
    "name": "ipython",
    "version": 3
   },
   "file_extension": ".py",
   "mimetype": "text/x-python",
   "name": "python",
   "nbconvert_exporter": "python",
   "pygments_lexer": "ipython3",
   "version": "3.8.8"
  },
  "orig_nbformat": 4
 },
 "nbformat": 4,
 "nbformat_minor": 2
}
