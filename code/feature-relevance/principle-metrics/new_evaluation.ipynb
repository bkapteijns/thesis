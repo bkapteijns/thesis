{
 "cells": [
  {
   "cell_type": "code",
   "execution_count": null,
   "metadata": {},
   "outputs": [],
   "source": [
    "\"\"\"\n",
    "The way the new evaluation works is following this simple algorithm:\n",
    "\n",
    "if (sentence contains key words):\n",
    "  We want a compact/'specific' explanation, where only the key words are highlighted\n",
    "else:\n",
    "  We want a general/'nuanced' explanations, where all words have similar relevance\n",
    "\n",
    "\n",
    "How to we check for key words:\n",
    " - fidelity: words that flip the prediction are more likely to be key words\n",
    " - realism: words that are similar to a set of pre-identified key words\n",
    "\"\"\""
   ]
  },
  {
   "cell_type": "code",
   "execution_count": null,
   "metadata": {},
   "outputs": [],
   "source": [
    "import numpy as np\n",
    "import copy\n",
    "from nltk.corpus import wordnet as wn"
   ]
  },
  {
   "cell_type": "code",
   "execution_count": null,
   "metadata": {},
   "outputs": [],
   "source": [
    "sentence = [\"\"]\n",
    "x = [0]\n",
    "model = lambda x: 0\n",
    "keyWordsClass0 = [] # pre-identified set of key words for class 0\n",
    "keyWordsClass1 = [] # pre-identified set of key words for class 1"
   ]
  },
  {
   "cell_type": "code",
   "execution_count": null,
   "metadata": {},
   "outputs": [],
   "source": [
    "def realism(sentence, positive_words, negative_words, prediction):\n",
    "    \"\"\"\n",
    "    sentence: a list of words\n",
    "    positive words: words associated with class 1\n",
    "    negative words: words associated with class 0\n",
    "    prediction: the class of the prediction\n",
    "\n",
    "    returns the indices of the realistic words, if there are any\n",
    "    \"\"\"\n",
    "    keywords = []\n",
    "    for (i, word) in enumerate(sentence):\n",
    "        if (prediction == 0):\n",
    "            for nw in negative_words:\n",
    "                if (word == nw or wn.synsets(word)[0].wup_similarity(wn.synsets(nw)[0])):\n",
    "                    keywords.append((i, word))\n",
    "        if (prediction == 1):\n",
    "            for pw in positive_words:\n",
    "                if (word == pw or wn.synsets(word)[0].wup_similarity(wn.synsets(pw)[0])):\n",
    "                    keywords.append((i, word))\n",
    "    return keywords"
   ]
  },
  {
   "cell_type": "code",
   "execution_count": null,
   "metadata": {},
   "outputs": [],
   "source": [
    "def fidelity(x, model):\n",
    "    \"\"\"\n",
    "    x: the input words\n",
    "    model: the prediction model\n",
    "    \"\"\"\n",
    "    keywords = []\n",
    "    samples = 5\n",
    "    for (i, w) in enumerate(x):\n",
    "        if (w != 0):\n",
    "            change_rating = 0\n",
    "            for change in range(samples):\n",
    "                new_x = copy.deepcopy(x)\n",
    "                new_x[i] = new_x[i] + (100 * change / samples)\n",
    "                if (model(np.array([x])) != model(np.array([new_x]))):\n",
    "                    change_rating += 1/samples\n",
    "\n",
    "            if (change_rating > samples * 3 / 4):\n",
    "                keywords.append((i, w))\n",
    "\n",
    "    return keywords"
   ]
  },
  {
   "cell_type": "code",
   "execution_count": null,
   "metadata": {},
   "outputs": [],
   "source": [
    "keywords = []\n",
    "keywords += realism(sentence, keyWordsClass1, keyWordsClass0, model(sentence))\n",
    "keywords += fidelity(x, model)"
   ]
  }
 ],
 "metadata": {
  "language_info": {
   "name": "python"
  },
  "orig_nbformat": 4
 },
 "nbformat": 4,
 "nbformat_minor": 2
}
