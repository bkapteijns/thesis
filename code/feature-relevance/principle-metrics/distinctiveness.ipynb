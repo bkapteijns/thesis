{
 "cells": [
  {
   "attachments": {},
   "cell_type": "markdown",
   "metadata": {},
   "source": [
    "Distinctiveness means that special features/words are used in the explanation.\n",
    "\n",
    "word_speciality * explanation_relevance"
   ]
  },
  {
   "cell_type": "code",
   "execution_count": 10,
   "metadata": {},
   "outputs": [],
   "source": [
    "import numpy as np\n",
    "from random import randint"
   ]
  },
  {
   "cell_type": "code",
   "execution_count": 49,
   "metadata": {},
   "outputs": [],
   "source": [
    "explanation = [[0] * 64] * 20\n",
    "train_data = []\n",
    "for i in range(500):\n",
    "  train_data.append([])\n",
    "  for j in range(64):\n",
    "    train_data[i].append(randint(1,5) + randint(0,5))\n",
    "X = []\n",
    "for i in range(20):\n",
    "  X.append([])\n",
    "  for j in range(randint(10, 30)):\n",
    "    X[i].append(randint(1,5) + randint(0,5))\n",
    "  while(len(X[i]) < 64):\n",
    "    X[i].append(0)"
   ]
  },
  {
   "cell_type": "code",
   "execution_count": 60,
   "metadata": {},
   "outputs": [],
   "source": [
    "def distinctiveness(data, train_data, explanation):\n",
    "  distinctiveness = [0] * 20\n",
    "\n",
    "  frequencies = []\n",
    "  for x in np.unique(train_data):\n",
    "    frequencies.append((np.mean(train_data == x), x))\n",
    "  sorted_frequencies = sorted(frequencies)\n",
    "  word_specialty = {0: 0}\n",
    "  for i, (f, x) in enumerate(sorted_frequencies):\n",
    "    word_specialty[x] = 1 - i / len(sorted_frequencies)\n",
    "\n",
    "  for i in range(len(data)):\n",
    "    for j in range(len(data[i])):\n",
    "      distinctiveness[i] += word_specialty[data[i][j]] * explanation[i][j]\n",
    "\n",
    "  return distinctiveness"
   ]
  },
  {
   "cell_type": "code",
   "execution_count": 61,
   "metadata": {},
   "outputs": [
    {
     "data": {
      "text/plain": [
       "[0.0,\n",
       " 0.0,\n",
       " 0.0,\n",
       " 0.0,\n",
       " 0.0,\n",
       " 0.0,\n",
       " 0.0,\n",
       " 0.0,\n",
       " 0.0,\n",
       " 0.0,\n",
       " 0.0,\n",
       " 0.0,\n",
       " 0.0,\n",
       " 0.0,\n",
       " 0.0,\n",
       " 0.0,\n",
       " 0.0,\n",
       " 0.0,\n",
       " 0.0,\n",
       " 0.0]"
      ]
     },
     "execution_count": 61,
     "metadata": {},
     "output_type": "execute_result"
    }
   ],
   "source": [
    "distinctiveness(X, train_data, explanation)"
   ]
  }
 ],
 "metadata": {
  "kernelspec": {
   "display_name": "base",
   "language": "python",
   "name": "python3"
  },
  "language_info": {
   "codemirror_mode": {
    "name": "ipython",
    "version": 3
   },
   "file_extension": ".py",
   "mimetype": "text/x-python",
   "name": "python",
   "nbconvert_exporter": "python",
   "pygments_lexer": "ipython3",
   "version": "3.8.8"
  },
  "orig_nbformat": 4
 },
 "nbformat": 4,
 "nbformat_minor": 2
}
