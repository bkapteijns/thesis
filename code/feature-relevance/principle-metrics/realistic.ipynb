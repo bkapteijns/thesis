{
 "cells": [
  {
   "attachments": {},
   "cell_type": "markdown",
   "metadata": {},
   "source": [
    "When an explanation is realistic, the words used are similar to the topic."
   ]
  },
  {
   "cell_type": "code",
   "execution_count": 4,
   "metadata": {},
   "outputs": [],
   "source": [
    "import nltk\n",
    "from nltk.corpus import wordnet as wn\n",
    "import numpy as np"
   ]
  },
  {
   "cell_type": "code",
   "execution_count": 48,
   "metadata": {},
   "outputs": [],
   "source": [
    "model = lambda x : 0\n",
    "shap_values = [[1/64] * 64] * 20 \n",
    "X = np.array([[0]*64]*20)\n",
    "words_dict = {0:\"\", 1: \"water\"}\n",
    "\n",
    "topic = wn.synset(\"flood.n.01\")\n",
    "metrics = [0]*len(X)"
   ]
  },
  {
   "cell_type": "code",
   "execution_count": 52,
   "metadata": {},
   "outputs": [],
   "source": [
    "def realism(data, words_dict, topic, explanation):\n",
    "  \"\"\"\n",
    "  data: the word ids in the shape of #elements x #words\n",
    "  topic: a wordnet synset\n",
    "  words_dict: a dictionary from ids to tokens\n",
    "\n",
    "  returns an array of length #elements\n",
    "  \"\"\"\n",
    "  metrics = [0] * len(data)\n",
    "  for i in range(len(data)):\n",
    "    for j in range(len(data[i])):\n",
    "      try:\n",
    "        metrics[i] += explanation[i][j] * topic.wup_similarity(wn.synsets(words_dict[data[i][j]])[0])\n",
    "      except:\n",
    "        pass\n",
    "  return metrics"
   ]
  },
  {
   "cell_type": "code",
   "execution_count": 53,
   "metadata": {},
   "outputs": [
    {
     "name": "stdout",
     "output_type": "stream",
     "text": [
      "[0, 0, 0.009615384615384616, 0, 0, 0, 0, 0, 0, 0, 0, 0, 0, 0, 0, 0, 0, 0, 0, 0]\n"
     ]
    }
   ],
   "source": [
    "realism(X, words_dict, topic, shap_values)"
   ]
  }
 ],
 "metadata": {
  "kernelspec": {
   "display_name": "base",
   "language": "python",
   "name": "python3"
  },
  "language_info": {
   "codemirror_mode": {
    "name": "ipython",
    "version": 3
   },
   "file_extension": ".py",
   "mimetype": "text/x-python",
   "name": "python",
   "nbconvert_exporter": "python",
   "pygments_lexer": "ipython3",
   "version": "3.8.8"
  },
  "orig_nbformat": 4
 },
 "nbformat": 4,
 "nbformat_minor": 2
}
